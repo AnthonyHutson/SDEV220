{
 "cells": [
  {
   "cell_type": "code",
   "execution_count": null,
   "id": "d0b7dd72-a4ff-4353-80d3-c7a458579f42",
   "metadata": {},
   "outputs": [],
   "source": [
    "Sort Array of 0s, 1s, and 2s Code:"
   ]
  },
  {
   "cell_type": "code",
   "execution_count": 5,
   "id": "626af2ef-70ee-4f56-83e2-e41539f863d6",
   "metadata": {},
   "outputs": [
    {
     "name": "stdout",
     "output_type": "stream",
     "text": [
      "[0, 0, 1, 1, 2, 2]\n"
     ]
    }
   ],
   "source": [
    "class Solution:\n",
    "    # Function to sort an array of 0s, 1s, and 2s\n",
    "    def sort012(self, arr):\n",
    "        self.arr = arr\n",
    "        n = len(self.arr)\n",
    "        lo = 0\n",
    "        mid = 0\n",
    "        hi = n - 1\n",
    "        \n",
    "        while mid <= hi:\n",
    "            if arr[mid] == 0:\n",
    "                arr[lo], arr[mid] = arr[mid], arr[lo]\n",
    "                lo = lo + 1\n",
    "                mid = mid + 1\n",
    "            elif arr[mid] == 1:\n",
    "                mid = mid + 1\n",
    "            else:\n",
    "                arr[mid], arr[hi] = arr[hi], arr[mid]\n",
    "                hi = hi - 1\n",
    "                \n",
    "        return arr\n",
    "\n",
    "arr = [0, 1 , 2, 0, 1, 2]            \n",
    "Sol = Solution()\n",
    "arr = Sol.sort012(arr)\n",
    "print(arr)"
   ]
  },
  {
   "cell_type": "code",
   "execution_count": null,
   "id": "5c7c0370-672e-485a-afb8-c0fbe7c5f411",
   "metadata": {},
   "outputs": [],
   "source": [
    "Binary Search Code:"
   ]
  },
  {
   "cell_type": "code",
   "execution_count": 3,
   "id": "a26ea07d-f74e-47d8-8fc3-9767ca020b92",
   "metadata": {},
   "outputs": [
    {
     "data": {
      "text/plain": [
       "3"
      ]
     },
     "execution_count": 3,
     "metadata": {},
     "output_type": "execute_result"
    }
   ],
   "source": [
    "class Solution:\n",
    "    def binarysearch(self, arr, k):\n",
    "        self.arr = arr\n",
    "        self.k = k\n",
    "        \n",
    "        if arr.count(k) > 0:\n",
    "            return arr.index(k)\n",
    "        else:\n",
    "            return -1\n",
    "\n",
    "arr = [1, 2, 3, 4, 5]\n",
    "k = 4\n",
    "Sol = Solution()\n",
    "Sol.binarysearch(arr, k)"
   ]
  }
 ],
 "metadata": {
  "kernelspec": {
   "display_name": "Python 3 (ipykernel)",
   "language": "python",
   "name": "python3"
  },
  "language_info": {
   "codemirror_mode": {
    "name": "ipython",
    "version": 3
   },
   "file_extension": ".py",
   "mimetype": "text/x-python",
   "name": "python",
   "nbconvert_exporter": "python",
   "pygments_lexer": "ipython3",
   "version": "3.12.4"
  }
 },
 "nbformat": 4,
 "nbformat_minor": 5
}
