{
 "cells": [
  {
   "cell_type": "code",
   "execution_count": null,
   "id": "acb26183-66d2-499b-8bab-c4622c45dbe2",
   "metadata": {},
   "outputs": [],
   "source": [
    "test_sum.py"
   ]
  },
  {
   "cell_type": "code",
   "execution_count": 9,
   "id": "3440ac11-7038-4f51-b8dc-8ce41ba52765",
   "metadata": {},
   "outputs": [
    {
     "name": "stdout",
     "output_type": "stream",
     "text": [
      "Everything passed\n"
     ]
    }
   ],
   "source": [
    "def test_sum():\n",
    "    assert sum([1, 2, 3]) == 6, \"Should be 6\"\n",
    "\n",
    "if __name__ == \"__main__\":\n",
    "    test_sum()\n",
    "    print(\"Everything passed\")"
   ]
  },
  {
   "cell_type": "code",
   "execution_count": null,
   "id": "3cf82bd2-9a37-4356-9769-257940ad18e9",
   "metadata": {},
   "outputs": [],
   "source": [
    "test_sum2.py"
   ]
  },
  {
   "cell_type": "code",
   "execution_count": 13,
   "id": "0bea5e42-f707-4694-89be-5d7cb7173b85",
   "metadata": {},
   "outputs": [
    {
     "name": "stdout",
     "output_type": "stream",
     "text": [
      "Everything passed\n"
     ]
    }
   ],
   "source": [
    "def test_sum():\n",
    "    assert sum([1, 2, 3]) == 6, \"Should be 6\"\n",
    "\n",
    "def test_sum_tuple():\n",
    "    assert sum((1, 2, 3)) == 6, \"Should be 6\"\n",
    "\n",
    "if __name__ == \"__main__\":\n",
    "    test_sum()\n",
    "    test_sum_tuple()\n",
    "    print(\"Everything passed\")"
   ]
  },
  {
   "cell_type": "code",
   "execution_count": null,
   "id": "d5f9f4e8-fc33-4e63-8eb8-6b443e6a1f4e",
   "metadata": {},
   "outputs": [],
   "source": [
    "pytest.py"
   ]
  },
  {
   "cell_type": "code",
   "execution_count": 67,
   "id": "a7452107-409e-4c20-ae12-ebfac1f50b5a",
   "metadata": {},
   "outputs": [
    {
     "data": {
      "text/plain": [
       "'Everything Passed'"
      ]
     },
     "execution_count": 67,
     "metadata": {},
     "output_type": "execute_result"
    }
   ],
   "source": [
    "def test_sum():\n",
    "    assert sum([1, 2, 3]) == 6, \"Should be 6\"\n",
    "    return \"Everything passed\"\n",
    "    \n",
    "def test_sum_tuple():\n",
    "    assert sum((1, 2, 3)) == 6, \"Should be 6\"\n",
    "    return \"Everything Passed\"\n",
    "\n",
    "test_sum()\n",
    "test_sum_tuple()"
   ]
  },
  {
   "cell_type": "code",
   "execution_count": null,
   "id": "377bdd7e-8449-4c8c-ae50-adc968253893",
   "metadata": {},
   "outputs": [],
   "source": []
  }
 ],
 "metadata": {
  "kernelspec": {
   "display_name": "Python 3 (ipykernel)",
   "language": "python",
   "name": "python3"
  },
  "language_info": {
   "codemirror_mode": {
    "name": "ipython",
    "version": 3
   },
   "file_extension": ".py",
   "mimetype": "text/x-python",
   "name": "python",
   "nbconvert_exporter": "python",
   "pygments_lexer": "ipython3",
   "version": "3.12.4"
  }
 },
 "nbformat": 4,
 "nbformat_minor": 5
}
