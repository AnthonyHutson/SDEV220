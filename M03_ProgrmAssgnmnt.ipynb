{
 "cells": [
  {
   "cell_type": "code",
   "execution_count": null,
   "id": "c6885533-3951-457d-aa7f-14c42306ede5",
   "metadata": {},
   "outputs": [],
   "source": [
    "7.4"
   ]
  },
  {
   "cell_type": "code",
   "execution_count": 7,
   "id": "d965fe53-febe-4928-9f9f-e514a77779bd",
   "metadata": {},
   "outputs": [],
   "source": [
    "things = [\"mozzarella\", \"cinderella\", \"salmonella\"]"
   ]
  },
  {
   "cell_type": "code",
   "execution_count": null,
   "id": "7e6c0d62-d846-46f0-9ee9-a813392a793e",
   "metadata": {},
   "outputs": [],
   "source": [
    "7.5"
   ]
  },
  {
   "cell_type": "code",
   "execution_count": 19,
   "id": "614b29b9-bbbf-4890-a852-b2295f2eac93",
   "metadata": {},
   "outputs": [],
   "source": [
    "things = [\"mozzarella\", \"cinderella\", \"salmonella\"]"
   ]
  },
  {
   "cell_type": "code",
   "execution_count": 21,
   "id": "2b3b53b1-266f-4b75-b78d-01adc8c39f34",
   "metadata": {},
   "outputs": [
    {
     "name": "stdout",
     "output_type": "stream",
     "text": [
      "['mozzarella', 'cinderella', 'salmonella']\n"
     ]
    }
   ],
   "source": [
    "print(things)"
   ]
  },
  {
   "cell_type": "code",
   "execution_count": 23,
   "id": "c11f319a-3fb8-4f69-b4ff-fa11a6fbf98a",
   "metadata": {},
   "outputs": [],
   "source": [
    "things[1] = \"Cinderella\""
   ]
  },
  {
   "cell_type": "code",
   "execution_count": 25,
   "id": "186653bc-47f5-44fe-9e67-b9423a04df0e",
   "metadata": {},
   "outputs": [
    {
     "name": "stdout",
     "output_type": "stream",
     "text": [
      "['mozzarella', 'Cinderella', 'salmonella']\n"
     ]
    }
   ],
   "source": [
    "print(things)"
   ]
  },
  {
   "cell_type": "code",
   "execution_count": null,
   "id": "eb036390-3fad-4221-9a2e-39ca60e8d16c",
   "metadata": {},
   "outputs": [],
   "source": [
    "7.6"
   ]
  },
  {
   "cell_type": "code",
   "execution_count": 58,
   "id": "6410b4a2-f50e-491e-b02c-005c9658ad1d",
   "metadata": {},
   "outputs": [],
   "source": [
    "things = [\"mozzarella\", \"cinderella\", \"salmonella\"]"
   ]
  },
  {
   "cell_type": "code",
   "execution_count": 60,
   "id": "1ed3b27f-ff67-4906-a0c6-d696bc85d4b8",
   "metadata": {},
   "outputs": [
    {
     "name": "stdout",
     "output_type": "stream",
     "text": [
      "['mozzarella', 'cinderella', 'salmonella']\n"
     ]
    }
   ],
   "source": [
    "print(things)"
   ]
  },
  {
   "cell_type": "code",
   "execution_count": 62,
   "id": "94cefcc7-f99c-4c6f-9f67-c73f0f62b894",
   "metadata": {},
   "outputs": [],
   "source": [
    "things[0] = things[0].upper()"
   ]
  },
  {
   "cell_type": "code",
   "execution_count": 64,
   "id": "c2174005-217d-4f7e-b32b-e28823f783ad",
   "metadata": {},
   "outputs": [
    {
     "name": "stdout",
     "output_type": "stream",
     "text": [
      "['MOZZARELLA', 'cinderella', 'salmonella']\n"
     ]
    }
   ],
   "source": [
    "print(things)"
   ]
  },
  {
   "cell_type": "code",
   "execution_count": null,
   "id": "64a99197-c673-418a-9fa1-88887f39e53e",
   "metadata": {},
   "outputs": [],
   "source": [
    "7.7"
   ]
  },
  {
   "cell_type": "code",
   "execution_count": 66,
   "id": "b1c4266d-6781-4b1c-b90f-1328f3f88576",
   "metadata": {},
   "outputs": [],
   "source": [
    "things = [\"mozzarella\", \"cinderella\", \"salmonella\"]"
   ]
  },
  {
   "cell_type": "code",
   "execution_count": 68,
   "id": "0d05d197-eceb-4c90-b344-1c27d75cadec",
   "metadata": {},
   "outputs": [
    {
     "name": "stdout",
     "output_type": "stream",
     "text": [
      "['mozzarella', 'cinderella', 'salmonella']\n"
     ]
    }
   ],
   "source": [
    "print(things)"
   ]
  },
  {
   "cell_type": "code",
   "execution_count": 70,
   "id": "70b39a56-2069-47b0-a567-bb2a54247e9b",
   "metadata": {},
   "outputs": [],
   "source": [
    "del things[-1]"
   ]
  },
  {
   "cell_type": "code",
   "execution_count": 72,
   "id": "833ccc04-d596-4103-b8ed-702aaa34f51e",
   "metadata": {},
   "outputs": [
    {
     "name": "stdout",
     "output_type": "stream",
     "text": [
      "['mozzarella', 'cinderella']\n"
     ]
    }
   ],
   "source": [
    "print(things)"
   ]
  },
  {
   "cell_type": "code",
   "execution_count": null,
   "id": "86827f0b-7b06-4149-a69b-0a5073fcce21",
   "metadata": {},
   "outputs": [],
   "source": [
    "9.1"
   ]
  },
  {
   "cell_type": "code",
   "execution_count": 76,
   "id": "1f59f600-cfac-4c58-98c5-eefdf1ee18d6",
   "metadata": {},
   "outputs": [],
   "source": [
    "def good():\n",
    "    return ['Harry', 'Ron', 'Hermione']"
   ]
  },
  {
   "cell_type": "code",
   "execution_count": 78,
   "id": "d900ed2d-cdc9-407c-ba24-a3509c620189",
   "metadata": {},
   "outputs": [
    {
     "data": {
      "text/plain": [
       "['Harry', 'Ron', 'Hermione']"
      ]
     },
     "execution_count": 78,
     "metadata": {},
     "output_type": "execute_result"
    }
   ],
   "source": [
    "good()"
   ]
  },
  {
   "cell_type": "code",
   "execution_count": null,
   "id": "15ebb184-22d2-496f-9b6e-baff4ff892ec",
   "metadata": {},
   "outputs": [],
   "source": [
    "9.2"
   ]
  },
  {
   "cell_type": "code",
   "execution_count": 102,
   "id": "3ce47e10-f819-484a-af8a-655b43f51d78",
   "metadata": {},
   "outputs": [
    {
     "name": "stdout",
     "output_type": "stream",
     "text": [
      "5\n"
     ]
    }
   ],
   "source": [
    "def get_odds():\n",
    "    for i in range(1, 10, 2):\n",
    "        yield i\n",
    "        \n",
    "count = 1\n",
    "for i in get_odds():\n",
    "    if count == 3:\n",
    "        print(i)\n",
    "        break\n",
    "    count += 1"
   ]
  }
 ],
 "metadata": {
  "kernelspec": {
   "display_name": "Python 3 (ipykernel)",
   "language": "python",
   "name": "python3"
  },
  "language_info": {
   "codemirror_mode": {
    "name": "ipython",
    "version": 3
   },
   "file_extension": ".py",
   "mimetype": "text/x-python",
   "name": "python",
   "nbconvert_exporter": "python",
   "pygments_lexer": "ipython3",
   "version": "3.12.4"
  }
 },
 "nbformat": 4,
 "nbformat_minor": 5
}
