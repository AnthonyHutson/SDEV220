{
 "cells": [
  {
   "cell_type": "code",
   "execution_count": null,
   "id": "5ebe2748-f4fd-4ff6-bb64-5a472a511416",
   "metadata": {},
   "outputs": [],
   "source": [
    "4.1"
   ]
  },
  {
   "cell_type": "code",
   "execution_count": 12,
   "id": "425ebc1d-4ce7-41c2-9fed-d3af6f945b54",
   "metadata": {
    "scrolled": true
   },
   "outputs": [
    {
     "name": "stdout",
     "output_type": "stream",
     "text": [
      "Too High\n"
     ]
    }
   ],
   "source": [
    "secret = 7\n",
    "guess = 9\n",
    "\n",
    "if guess == secret:\n",
    "    print(\"Just Right!\")\n",
    "elif guess < secret:\n",
    "    print(\"Too Low\")\n",
    "else:\n",
    "    print(\"Too High\")"
   ]
  },
  {
   "cell_type": "code",
   "execution_count": null,
   "id": "ed7a3158-e8d5-4331-98d4-90b6c78f0aac",
   "metadata": {},
   "outputs": [],
   "source": [
    "4.2"
   ]
  },
  {
   "cell_type": "code",
   "execution_count": 24,
   "id": "09ee43fa-0769-4486-8dee-1154318ca486",
   "metadata": {},
   "outputs": [
    {
     "name": "stdout",
     "output_type": "stream",
     "text": [
      "cherry\n"
     ]
    }
   ],
   "source": [
    "small = True\n",
    "green = False\n",
    "\n",
    "if small:\n",
    "    if green:\n",
    "        print(\"pea\")\n",
    "    else:\n",
    "        print(\"cherry\")\n",
    "else:\n",
    "    if green:\n",
    "        print(\"watermelon\")\n",
    "    else:\n",
    "        print(\"pumpkin\")"
   ]
  },
  {
   "cell_type": "code",
   "execution_count": null,
   "id": "48c3c83d-4588-46d1-b3dc-c579a4a96767",
   "metadata": {},
   "outputs": [],
   "source": [
    "6.1"
   ]
  },
  {
   "cell_type": "code",
   "execution_count": 31,
   "id": "e32482eb-4e38-46aa-8e95-cc6d989cf2be",
   "metadata": {},
   "outputs": [
    {
     "name": "stdout",
     "output_type": "stream",
     "text": [
      "3\n",
      "2\n",
      "1\n",
      "0\n"
     ]
    }
   ],
   "source": [
    "list = [3, 2, 1, 0]\n",
    "for i in list:\n",
    "    print(i)"
   ]
  },
  {
   "cell_type": "code",
   "execution_count": null,
   "id": "8ad875d1-e847-467b-b2bd-cc3f4ebbd9fe",
   "metadata": {},
   "outputs": [],
   "source": [
    "6.2"
   ]
  },
  {
   "cell_type": "code",
   "execution_count": 39,
   "id": "945990d5-9b09-47b4-b398-886764b75725",
   "metadata": {},
   "outputs": [
    {
     "name": "stdout",
     "output_type": "stream",
     "text": [
      "Too Low\n",
      "Too Low\n",
      "Too Low\n",
      "Too Low\n",
      "Too Low\n",
      "Too Low\n",
      "Found It!\n"
     ]
    }
   ],
   "source": [
    "guess_me = 7\n",
    "number = 1\n",
    "\n",
    "while number != guess_me + 1:\n",
    "    if number < guess_me:\n",
    "        print(\"Too Low\")\n",
    "    if number > guess_me:\n",
    "        print(\"Oops\")\n",
    "        break\n",
    "    if number == guess_me:\n",
    "        print(\"Found It!\")\n",
    "    number += 1"
   ]
  },
  {
   "cell_type": "code",
   "execution_count": null,
   "id": "866b45b3-7215-4940-ac8a-b4da805120ac",
   "metadata": {},
   "outputs": [],
   "source": [
    "6.3"
   ]
  },
  {
   "cell_type": "code",
   "execution_count": 49,
   "id": "be0f83e2-c727-4a30-b24f-d2125b0a7801",
   "metadata": {},
   "outputs": [
    {
     "name": "stdout",
     "output_type": "stream",
     "text": [
      "Too Low\n",
      "Too Low\n",
      "Too Low\n",
      "Too Low\n",
      "Too Low\n",
      "Found It!\n"
     ]
    }
   ],
   "source": [
    "guess_me = 5\n",
    "\n",
    "for number in range(10):\n",
    "    if number < guess_me:\n",
    "        print(\"Too Low\")\n",
    "    if number > guess_me:\n",
    "        print(\"Oops\")\n",
    "        break\n",
    "    if number == guess_me:\n",
    "        print(\"Found It!\")\n",
    "        break"
   ]
  }
 ],
 "metadata": {
  "kernelspec": {
   "display_name": "Python 3 (ipykernel)",
   "language": "python",
   "name": "python3"
  },
  "language_info": {
   "codemirror_mode": {
    "name": "ipython",
    "version": 3
   },
   "file_extension": ".py",
   "mimetype": "text/x-python",
   "name": "python",
   "nbconvert_exporter": "python",
   "pygments_lexer": "ipython3",
   "version": "3.12.4"
  }
 },
 "nbformat": 4,
 "nbformat_minor": 5
}
